{
 "cells": [
  {
   "cell_type": "markdown",
   "source": [
    "# Fréquence de mise à jour nécessaire\n",
    "\n",
    "Nous pouvons dès à présent établir un système nous indiquant quand il faudra mettre à jour notre modèle. Il suffit de mettre en place un système d'Ajusted Rand Score.\n",
    "\n",
    "Commençons en chargeant notre CSV et en faisant nos imports :\n",
    "\n"
   ],
   "metadata": {
    "collapsed": false
   }
  },
  {
   "cell_type": "code",
   "execution_count": 131,
   "outputs": [],
   "source": [
    "from sklearn.preprocessing import MinMaxScaler\n",
    "from sklearn.pipeline import Pipeline, make_pipeline\n",
    "import pandas\n",
    "from datetime import date, timedelta, datetime\n",
    "\n",
    "import pandas as pd\n",
    "from sklearn.metrics.cluster import adjusted_rand_score\n",
    "from sklearn.cluster import KMeans\n",
    "import matplotlib.pyplot as plt\n",
    "import seaborn as sns\n",
    "\n",
    "data = pd.read_csv(\"data/rfm_data.csv\")"
   ],
   "metadata": {
    "collapsed": false
   }
  },
  {
   "cell_type": "markdown",
   "source": [
    "Maintenant, on va itérer et calculer le temps écoulé entre aujourd'hui et le nombre de jours depuis la commande :"
   ],
   "metadata": {
    "collapsed": false
   }
  },
  {
   "cell_type": "code",
   "execution_count": 132,
   "outputs": [],
   "source": [
    "data['order_purchase_timestamp'] = 'none'\n",
    "\n",
    "for i, row in data.iterrows():\n",
    "    data.loc[i, ['order_purchase_timestamp']] = (datetime.now() - timedelta(days=row['(days)last_purchase'])).strftime(\"%m/%d/%Y\")\n",
    "\n",
    "def kmean_process_date(data_period):\n",
    "    kmeans_p = Pipeline([(\"preprocessor\", MinMaxScaler()),\n",
    "                         (\"kmeans\", KMeans(6, random_state=42))])\n",
    "    kmeans_p.fit(data_period)\n",
    "    p_labels = kmeans_p.named_steps['kmeans'].labels_\n",
    "    return p_labels\n",
    "\n",
    "def kmean_init_data(data_init):\n",
    "    kmeans_init = Pipeline([(\"preprocessor\", MinMaxScaler()),\n",
    "                            (\"kmeans\", KMeans(6, random_state=42))])\n",
    "    kmeans_init.fit(data_init)\n",
    "    init_labels = kmeans_init.named_steps['kmeans'].labels_\n",
    "    return init_labels\n",
    "\n",
    "all_dates = {\n",
    "    \"01/01/2022\": \"02/01/2022\",\n",
    "    \"02/01/2022\": \"03/01/2022\",\n",
    "    \"03/01/2022\": \"04/01/2022\",\n",
    "    \"04/01/2022\": \"05/01/2022\",\n",
    "    \"05/01/2022\": \"06/01/2022\",\n",
    "    \"06/01/2022\": \"07/01/2022\",\n",
    "    \"07/01/2022\": \"08/01/2022\",\n",
    "    \"08/01/2022\": \"09/01/2022\",\n",
    "    \"09/01/2022\": \"10/01/2022\",\n",
    "    \"10/01/2022\": \"11/01/2022\",\n",
    "    \"11/01/2022\": \"12/01/2022\"\n",
    "}\n",
    "\n",
    "mesurate_ari_by_month = {}\n",
    "\n",
    "def calculate_kmean_by_month():\n",
    "    for key in all_dates:\n",
    "        data_temp = pd.DataFrame({})\n",
    "        start_date = key\n",
    "        end_date = all_dates[key]\n",
    "        for i in range(0, len(data)):\n",
    "            is_in_period = datetime.strptime(start_date, \"%m/%d/%Y\") < datetime.strptime(data.at[i, 'order_purchase_timestamp'], '%m/%d/%Y') < datetime.strptime(end_date, \"%m/%d/%Y\")\n",
    "\n",
    "            if is_in_period:\n",
    "                data_var = data.loc[[i]]\n",
    "                data_temp = pandas.concat([data_temp, data_var])\n",
    "\n",
    "        data_pred = pd.DataFrame({ '(days)last_purchase': data_temp['(days)last_purchase'], 'total_orders': data_temp['total_orders'], 'total_spend': data_temp['total_spend'] })\n",
    "        data_init = pd.DataFrame({ '(days)last_purchase': data['(days)last_purchase'], 'total_orders': data['total_orders'], 'total_spend': data['total_spend'] })\n",
    "\n",
    "        data_pred = data_pred[data_pred.index.isin(data_init.index)]\n",
    "\n",
    "        init_labels = kmean_init_data(data_init)\n",
    "        labels = kmean_process_date(data_pred)\n",
    "\n",
    "        mesurate_ari = adjusted_rand_score(init_labels[0:len(labels)], labels)\n",
    "        mesurate_ari_by_month[start_date] = mesurate_ari\n",
    "\n",
    "calculate_kmean_by_month()\n",
    "\n",
    "ari_score = pd.DataFrame({ \"period\": [], \"ARI\": [] })\n",
    "\n",
    "for key in mesurate_ari_by_month:\n",
    "    key_value = { \"period\": key, \"ARI\": mesurate_ari_by_month[key] }\n",
    "    ari_score = ari_score.append(key_value, ignore_index=True)\n",
    "\n",
    "fig = plt.figure(figsize=(12,8))\n",
    "sns.lineplot(data=ari_score, x=\"period\", y=\"ARI\")\n",
    "plt.axhline(y=ari_score.iloc[2][1], linestyle=\"--\",\n",
    "            color=\"green\",\n",
    "            xmax=1,\n",
    "            linewidth=1)\n",
    "plt.axvline(x=ari_score.iloc[2][0], linestyle=\"--\",\n",
    "            color=\"green\",\n",
    "            ymax=1.1-(ari_score.iloc[2][1]),\n",
    "            linewidth=1)\n",
    "plt.xlabel(\"Période (mois)\")\n",
    "plt.ylabel(\"Score ARI\")\n",
    "plt.title(\"Stabilité temporelle de la segmentation K-Means\",\n",
    "          fontsize=18,\n",
    "          color=\"b\")\n",
    "plt.show()"
   ],
   "metadata": {
    "collapsed": false
   }
  },
  {
   "cell_type": "markdown",
   "source": [],
   "metadata": {
    "collapsed": false
   }
  }
 ],
 "metadata": {
  "kernelspec": {
   "display_name": "Python 3",
   "language": "python",
   "name": "python3"
  },
  "language_info": {
   "codemirror_mode": {
    "name": "ipython",
    "version": 2
   },
   "file_extension": ".py",
   "mimetype": "text/x-python",
   "name": "python",
   "nbconvert_exporter": "python",
   "pygments_lexer": "ipython2",
   "version": "2.7.6"
  }
 },
 "nbformat": 4,
 "nbformat_minor": 0
}
