{
 "cells": [
  {
   "cell_type": "markdown",
   "metadata": {
    "collapsed": false
   },
   "source": [
    "# Clustering / segmentation des données Olist\n",
    "\n",
    "Maintenant que notre analyse exploratoire est faite, nous allons nous intéresser à la segmentation des données de Olist.\n",
    "\n",
    "Commençons par définir le nombre de clusters en implémentant la méthode Elbow mais tout d'abord, démarrons par importer nos librairies :"
   ]
  },
  {
   "cell_type": "code",
   "execution_count": 3,
   "metadata": {
    "collapsed": false
   },
   "outputs": [],
   "source": [
    "import pandas as pd\n",
    "import seaborn as sns\n",
    "import matplotlib.pyplot as plt\n",
    "from sklearn.cluster import KMeans"
   ]
  },
  {
   "cell_type": "code",
   "execution_count": 4,
   "metadata": {
    "collapsed": false
   },
   "outputs": [
    {
     "data": {
      "image/png": "[encoded data removed]",
      "text/plain": [
       "<Figure size 640x480 with 1 Axes>"
      ]
     },
     "metadata": {},
     "output_type": "display_data"
    }
   ],
   "source": [
    "data = pd.read_csv(\"data/rfm_data.csv\")\n",
    "\n",
    "data_without_customer_id = pd.DataFrame({ \"(days)last_purchase\": data[\"(days)last_purchase\"], \"total_orders\": data[\"total_orders\"], \"total_spend\": data[\"total_spend\"] })\n",
    "\n",
    "wcss = []\n",
    "\n",
    "for i in range(1, 11):\n",
    "    clustering = KMeans(n_clusters=i, init='k-means++', random_state=42)\n",
    "    clustering.fit(data_without_customer_id)\n",
    "    wcss.append(clustering.inertia_)\n",
    "\n",
    "ks = [1, 2, 3, 4, 5, 6, 7, 8, 9, 10]\n",
    "sns.lineplot(x = ks, y = wcss);"
   ]
  },
  {
   "cell_type": "markdown",
   "metadata": {
    "collapsed": false
   },
   "source": [
    "D'après la méthode d'Elbow, le nombre idéal de cluster est à 4.\n",
    "\n",
    "Implémentons notre K-Means :"
   ]
  },
  {
   "cell_type": "code",
   "execution_count": 5,
   "metadata": {
    "collapsed": false
   },
   "outputs": [
    {
     "data": {
      "text/html": [
       "<div>\n",
       "<style scoped>\n",
       "    .dataframe tbody tr th:only-of-type {\n",
       "        vertical-align: middle;\n",
       "    }\n",
       "\n",
       "    .dataframe tbody tr th {\n",
       "        vertical-align: top;\n",
       "    }\n",
       "\n",
       "    .dataframe thead th {\n",
       "        text-align: right;\n",
       "    }\n",
       "</style>\n",
       "<table border=\"1\" class=\"dataframe\">\n",
       "  <thead>\n",
       "    <tr style=\"text-align: right;\">\n",
       "      <th></th>\n",
       "      <th>count</th>\n",
       "      <th>mean</th>\n",
       "      <th>std</th>\n",
       "      <th>min</th>\n",
       "      <th>25%</th>\n",
       "      <th>50%</th>\n",
       "      <th>75%</th>\n",
       "      <th>max</th>\n",
       "    </tr>\n",
       "    <tr>\n",
       "      <th>R</th>\n",
       "      <th></th>\n",
       "      <th></th>\n",
       "      <th></th>\n",
       "      <th></th>\n",
       "      <th></th>\n",
       "      <th></th>\n",
       "      <th></th>\n",
       "      <th></th>\n",
       "    </tr>\n",
       "  </thead>\n",
       "  <tbody>\n",
       "    <tr>\n",
       "      <th>0</th>\n",
       "      <td>61100.0</td>\n",
       "      <td>241.009869</td>\n",
       "      <td>153.071742</td>\n",
       "      <td>0.0</td>\n",
       "      <td>117.00</td>\n",
       "      <td>223.0</td>\n",
       "      <td>351.00</td>\n",
       "      <td>695.0</td>\n",
       "    </tr>\n",
       "    <tr>\n",
       "      <th>1</th>\n",
       "      <td>27162.0</td>\n",
       "      <td>234.684412</td>\n",
       "      <td>151.362626</td>\n",
       "      <td>0.0</td>\n",
       "      <td>113.00</td>\n",
       "      <td>215.0</td>\n",
       "      <td>341.00</td>\n",
       "      <td>713.0</td>\n",
       "    </tr>\n",
       "    <tr>\n",
       "      <th>2</th>\n",
       "      <td>6179.0</td>\n",
       "      <td>239.853860</td>\n",
       "      <td>154.927031</td>\n",
       "      <td>0.0</td>\n",
       "      <td>115.00</td>\n",
       "      <td>218.0</td>\n",
       "      <td>345.00</td>\n",
       "      <td>694.0</td>\n",
       "    </tr>\n",
       "    <tr>\n",
       "      <th>3</th>\n",
       "      <td>1653.0</td>\n",
       "      <td>240.082880</td>\n",
       "      <td>156.168201</td>\n",
       "      <td>3.0</td>\n",
       "      <td>108.00</td>\n",
       "      <td>220.0</td>\n",
       "      <td>359.00</td>\n",
       "      <td>693.0</td>\n",
       "    </tr>\n",
       "    <tr>\n",
       "      <th>4</th>\n",
       "      <td>362.0</td>\n",
       "      <td>233.549724</td>\n",
       "      <td>161.251645</td>\n",
       "      <td>3.0</td>\n",
       "      <td>100.25</td>\n",
       "      <td>201.0</td>\n",
       "      <td>348.75</td>\n",
       "      <td>579.0</td>\n",
       "    </tr>\n",
       "    <tr>\n",
       "      <th>5</th>\n",
       "      <td>22.0</td>\n",
       "      <td>285.954545</td>\n",
       "      <td>213.290876</td>\n",
       "      <td>25.0</td>\n",
       "      <td>86.00</td>\n",
       "      <td>246.5</td>\n",
       "      <td>497.00</td>\n",
       "      <td>570.0</td>\n",
       "    </tr>\n",
       "  </tbody>\n",
       "</table>\n",
       "</div>"
      ],
      "text/plain": [
       "     count        mean         std   min     25%    50%     75%    max\n",
       "R                                                                     \n",
       "0  61100.0  241.009869  153.071742   0.0  117.00  223.0  351.00  695.0\n",
       "1  27162.0  234.684412  151.362626   0.0  113.00  215.0  341.00  713.0\n",
       "2   6179.0  239.853860  154.927031   0.0  115.00  218.0  345.00  694.0\n",
       "3   1653.0  240.082880  156.168201   3.0  108.00  220.0  359.00  693.0\n",
       "4    362.0  233.549724  161.251645   3.0  100.25  201.0  348.75  579.0\n",
       "5     22.0  285.954545  213.290876  25.0   86.00  246.5  497.00  570.0"
      ]
     },
     "execution_count": 5,
     "metadata": {},
     "output_type": "execute_result"
    }
   ],
   "source": [
    "from sklearn.preprocessing import StandardScaler\n",
    "\n",
    "\n",
    "def kmean_process(data, cluster_n, random_state, asc=False):\n",
    "    data_temp = data.copy()\n",
    "\n",
    "    kmean_model = KMeans(n_clusters=cluster_n, random_state=random_state).fit(data_temp)\n",
    "    group = data.assign(cluster=kmean_model.labels_)\n",
    "\n",
    "    group_mean = group.groupby('cluster').mean().reset_index()\n",
    "    group_mean = group_mean.sort_values(by=group_mean.columns[1],ascending=asc)\n",
    "    group_mean['cluster_set'] = [i for i in range(cluster_n, 0, -1) ]\n",
    "    cluster_map = group_mean.set_index('cluster').to_dict()['cluster_set']\n",
    "\n",
    "    return group['cluster'].map(cluster_map)\n",
    "\n",
    "\n",
    "r_labels = kmean_process(data[['(days)last_purchase']], cluster_n=6, random_state=1, asc=True)\n",
    "f_labels = kmean_process(data[['total_orders']], cluster_n=6, random_state=1)\n",
    "m_labels = kmean_process(data[['total_spend']], cluster_n=6, random_state=1)\n",
    "\n",
    "final_csv = pd.DataFrame({ \"(days)last_purchase\": r_labels, 'total_orders': f_labels, 'total_spend': m_labels })\n",
    "final_csv.to_csv('data/final_data.csv')\n",
    "\n",
    "rfm_data = data.assign(R = r_labels, F = f_labels, M = m_labels)\n",
    "\n",
    "rfm_data['R'] = rfm_data['R'] - 1\n",
    "rfm_data['R'] = rfm_data['F'] - 1\n",
    "rfm_data['R'] = rfm_data['M'] - 1\n",
    "\n",
    "rfm_data.groupby('R')['(days)last_purchase'].describe()\n"
   ]
  },
  {
   "cell_type": "markdown",
   "metadata": {
    "collapsed": false
   },
   "source": [
    "Nous voyons ici que la récurrence des commandes se situent entre 3 et 25 mois, ce qui semble assez significatif."
   ]
  },
  {
   "cell_type": "code",
   "execution_count": 6,
   "metadata": {
    "collapsed": false
   },
   "outputs": [
    {
     "data": {
      "text/html": [
       "<div>\n",
       "<style scoped>\n",
       "    .dataframe tbody tr th:only-of-type {\n",
       "        vertical-align: middle;\n",
       "    }\n",
       "\n",
       "    .dataframe tbody tr th {\n",
       "        vertical-align: top;\n",
       "    }\n",
       "\n",
       "    .dataframe thead th {\n",
       "        text-align: right;\n",
       "    }\n",
       "</style>\n",
       "<table border=\"1\" class=\"dataframe\">\n",
       "  <thead>\n",
       "    <tr style=\"text-align: right;\">\n",
       "      <th></th>\n",
       "      <th>count</th>\n",
       "      <th>mean</th>\n",
       "      <th>std</th>\n",
       "      <th>min</th>\n",
       "      <th>25%</th>\n",
       "      <th>50%</th>\n",
       "      <th>75%</th>\n",
       "      <th>max</th>\n",
       "    </tr>\n",
       "    <tr>\n",
       "      <th>F</th>\n",
       "      <th></th>\n",
       "      <th></th>\n",
       "      <th></th>\n",
       "      <th></th>\n",
       "      <th></th>\n",
       "      <th></th>\n",
       "      <th></th>\n",
       "      <th></th>\n",
       "    </tr>\n",
       "  </thead>\n",
       "  <tbody>\n",
       "    <tr>\n",
       "      <th>1</th>\n",
       "      <td>86843.0</td>\n",
       "      <td>1.000000</td>\n",
       "      <td>0.000000</td>\n",
       "      <td>1.0</td>\n",
       "      <td>1.0</td>\n",
       "      <td>1.0</td>\n",
       "      <td>1.0</td>\n",
       "      <td>1.0</td>\n",
       "    </tr>\n",
       "    <tr>\n",
       "      <th>2</th>\n",
       "      <td>7392.0</td>\n",
       "      <td>2.000000</td>\n",
       "      <td>0.000000</td>\n",
       "      <td>2.0</td>\n",
       "      <td>2.0</td>\n",
       "      <td>2.0</td>\n",
       "      <td>2.0</td>\n",
       "      <td>2.0</td>\n",
       "    </tr>\n",
       "    <tr>\n",
       "      <th>3</th>\n",
       "      <td>1306.0</td>\n",
       "      <td>3.000000</td>\n",
       "      <td>0.000000</td>\n",
       "      <td>3.0</td>\n",
       "      <td>3.0</td>\n",
       "      <td>3.0</td>\n",
       "      <td>3.0</td>\n",
       "      <td>3.0</td>\n",
       "    </tr>\n",
       "    <tr>\n",
       "      <th>4</th>\n",
       "      <td>688.0</td>\n",
       "      <td>4.280523</td>\n",
       "      <td>0.449582</td>\n",
       "      <td>4.0</td>\n",
       "      <td>4.0</td>\n",
       "      <td>4.0</td>\n",
       "      <td>5.0</td>\n",
       "      <td>5.0</td>\n",
       "    </tr>\n",
       "    <tr>\n",
       "      <th>5</th>\n",
       "      <td>224.0</td>\n",
       "      <td>6.209821</td>\n",
       "      <td>0.564806</td>\n",
       "      <td>6.0</td>\n",
       "      <td>6.0</td>\n",
       "      <td>6.0</td>\n",
       "      <td>6.0</td>\n",
       "      <td>9.0</td>\n",
       "    </tr>\n",
       "    <tr>\n",
       "      <th>6</th>\n",
       "      <td>25.0</td>\n",
       "      <td>12.640000</td>\n",
       "      <td>3.302524</td>\n",
       "      <td>10.0</td>\n",
       "      <td>10.0</td>\n",
       "      <td>12.0</td>\n",
       "      <td>14.0</td>\n",
       "      <td>21.0</td>\n",
       "    </tr>\n",
       "  </tbody>\n",
       "</table>\n",
       "</div>"
      ],
      "text/plain": [
       "     count       mean       std   min   25%   50%   75%   max\n",
       "F                                                            \n",
       "1  86843.0   1.000000  0.000000   1.0   1.0   1.0   1.0   1.0\n",
       "2   7392.0   2.000000  0.000000   2.0   2.0   2.0   2.0   2.0\n",
       "3   1306.0   3.000000  0.000000   3.0   3.0   3.0   3.0   3.0\n",
       "4    688.0   4.280523  0.449582   4.0   4.0   4.0   5.0   5.0\n",
       "5    224.0   6.209821  0.564806   6.0   6.0   6.0   6.0   9.0\n",
       "6     25.0  12.640000  3.302524  10.0  10.0  12.0  14.0  21.0"
      ]
     },
     "execution_count": 6,
     "metadata": {},
     "output_type": "execute_result"
    }
   ],
   "source": [
    "rfm_data.groupby('F')['total_orders'].describe()"
   ]
  },
  {
   "cell_type": "markdown",
   "metadata": {
    "collapsed": false
   },
   "source": [
    "Nous voyons ici que seulement 3% des consommateurs font plus d'une commande."
   ]
  },
  {
   "cell_type": "code",
   "execution_count": 7,
   "metadata": {
    "collapsed": false
   },
   "outputs": [
    {
     "data": {
      "text/html": [
       "<div>\n",
       "<style scoped>\n",
       "    .dataframe tbody tr th:only-of-type {\n",
       "        vertical-align: middle;\n",
       "    }\n",
       "\n",
       "    .dataframe tbody tr th {\n",
       "        vertical-align: top;\n",
       "    }\n",
       "\n",
       "    .dataframe thead th {\n",
       "        text-align: right;\n",
       "    }\n",
       "</style>\n",
       "<table border=\"1\" class=\"dataframe\">\n",
       "  <thead>\n",
       "    <tr style=\"text-align: right;\">\n",
       "      <th></th>\n",
       "      <th>count</th>\n",
       "      <th>mean</th>\n",
       "      <th>std</th>\n",
       "      <th>min</th>\n",
       "      <th>25%</th>\n",
       "      <th>50%</th>\n",
       "      <th>75%</th>\n",
       "      <th>max</th>\n",
       "    </tr>\n",
       "    <tr>\n",
       "      <th>M</th>\n",
       "      <th></th>\n",
       "      <th></th>\n",
       "      <th></th>\n",
       "      <th></th>\n",
       "      <th></th>\n",
       "      <th></th>\n",
       "      <th></th>\n",
       "      <th></th>\n",
       "    </tr>\n",
       "  </thead>\n",
       "  <tbody>\n",
       "    <tr>\n",
       "      <th>1</th>\n",
       "      <td>61100.0</td>\n",
       "      <td>74.511922</td>\n",
       "      <td>31.472319</td>\n",
       "      <td>9.59</td>\n",
       "      <td>47.9500</td>\n",
       "      <td>71.140</td>\n",
       "      <td>99.900</td>\n",
       "      <td>137.65</td>\n",
       "    </tr>\n",
       "    <tr>\n",
       "      <th>2</th>\n",
       "      <td>27162.0</td>\n",
       "      <td>200.850164</td>\n",
       "      <td>50.512692</td>\n",
       "      <td>137.66</td>\n",
       "      <td>159.6525</td>\n",
       "      <td>188.270</td>\n",
       "      <td>231.650</td>\n",
       "      <td>332.87</td>\n",
       "    </tr>\n",
       "    <tr>\n",
       "      <th>3</th>\n",
       "      <td>6179.0</td>\n",
       "      <td>465.103641</td>\n",
       "      <td>111.115056</td>\n",
       "      <td>332.89</td>\n",
       "      <td>370.7600</td>\n",
       "      <td>428.250</td>\n",
       "      <td>545.070</td>\n",
       "      <td>737.04</td>\n",
       "    </tr>\n",
       "    <tr>\n",
       "      <th>4</th>\n",
       "      <td>1653.0</td>\n",
       "      <td>1009.849080</td>\n",
       "      <td>216.565880</td>\n",
       "      <td>737.36</td>\n",
       "      <td>827.9100</td>\n",
       "      <td>942.780</td>\n",
       "      <td>1158.990</td>\n",
       "      <td>1544.62</td>\n",
       "    </tr>\n",
       "    <tr>\n",
       "      <th>5</th>\n",
       "      <td>362.0</td>\n",
       "      <td>2082.497431</td>\n",
       "      <td>445.541996</td>\n",
       "      <td>1549.41</td>\n",
       "      <td>1734.3500</td>\n",
       "      <td>1989.855</td>\n",
       "      <td>2249.905</td>\n",
       "      <td>3602.47</td>\n",
       "    </tr>\n",
       "    <tr>\n",
       "      <th>6</th>\n",
       "      <td>22.0</td>\n",
       "      <td>5208.325455</td>\n",
       "      <td>2221.678369</td>\n",
       "      <td>3666.42</td>\n",
       "      <td>4021.2925</td>\n",
       "      <td>4320.130</td>\n",
       "      <td>5798.740</td>\n",
       "      <td>13664.08</td>\n",
       "    </tr>\n",
       "  </tbody>\n",
       "</table>\n",
       "</div>"
      ],
      "text/plain": [
       "     count         mean          std      min        25%       50%       75%  \\\n",
       "M                                                                              \n",
       "1  61100.0    74.511922    31.472319     9.59    47.9500    71.140    99.900   \n",
       "2  27162.0   200.850164    50.512692   137.66   159.6525   188.270   231.650   \n",
       "3   6179.0   465.103641   111.115056   332.89   370.7600   428.250   545.070   \n",
       "4   1653.0  1009.849080   216.565880   737.36   827.9100   942.780  1158.990   \n",
       "5    362.0  2082.497431   445.541996  1549.41  1734.3500  1989.855  2249.905   \n",
       "6     22.0  5208.325455  2221.678369  3666.42  4021.2925  4320.130  5798.740   \n",
       "\n",
       "        max  \n",
       "M            \n",
       "1    137.65  \n",
       "2    332.87  \n",
       "3    737.04  \n",
       "4   1544.62  \n",
       "5   3602.47  \n",
       "6  13664.08  "
      ]
     },
     "execution_count": 7,
     "metadata": {},
     "output_type": "execute_result"
    }
   ],
   "source": [
    "rfm_data.groupby('M')['total_spend'].describe()"
   ]
  },
  {
   "cell_type": "markdown",
   "metadata": {
    "collapsed": false
   },
   "source": [
    "Ici nous pouvons voir qu'en moyenne les clients dépensent environ 74$.\n",
    "\n",
    "Essayons de regrouper nos utilisateurs dans des groupes."
   ]
  },
  {
   "cell_type": "code",
   "execution_count": 8,
   "metadata": {
    "collapsed": false
   },
   "outputs": [
    {
     "data": {
      "image/png": "[encoded data removed]",
      "text/plain": [
       "<Figure size 1000x500 with 1 Axes>"
      ]
     },
     "metadata": {},
     "output_type": "display_data"
    }
   ],
   "source": [
    "def segment(data):\n",
    "    mean_fm = (data['F'] + data['M']) / 2\n",
    "\n",
    "    if (data['R'] >= 4 and data['R'] <= 5) and (mean_fm >= 4 and mean_fm <= 5):\n",
    "        return 'Meilleurs clients'\n",
    "    if (data['R'] >= 2 and data['R'] <= 5) and (mean_fm >= 3 and mean_fm <= 5):\n",
    "        return 'Loyaux'\n",
    "    if (data['R'] >= 3 and data['R'] <= 5) and (mean_fm >= 1 and mean_fm <= 3):\n",
    "        return 'Fort potentiel'\n",
    "    if (data['R'] >= 4 and data['R'] <= 5) and (mean_fm >= 0 and mean_fm <= 1):\n",
    "        return 'Nouveau'\n",
    "    if (data['R'] >= 3 and data['R'] <= 4) and (mean_fm >= 0 and mean_fm <= 1):\n",
    "        return 'Prometteur'\n",
    "    if (data['R'] >= 2 and data['R'] <= 3) and (mean_fm >= 2 and mean_fm <= 3):\n",
    "        return \"Demande de l'attention\"\n",
    "    if (data['R'] >= 2 and data['R'] <= 3) and (mean_fm >= 0 and mean_fm <= 2):\n",
    "        return 'Passif'\n",
    "    if (data['R'] >= 0 and data['R'] <= 2) and (mean_fm >= 2 and mean_fm <= 5):\n",
    "        return 'A risque'\n",
    "    if (data['R'] >= 0 and data['R'] <= 1) and (mean_fm >= 4 and mean_fm <= 5):\n",
    "        return \"Bientôt Perdu\"\n",
    "    if (data['R'] >= 1 and data['R'] <= 2) and (mean_fm >= 1 and mean_fm <= 2):\n",
    "        return 'Endormis'\n",
    "    return 'Perdu'\n",
    "\n",
    "rfm_data['segment'] = rfm_data.apply(segment, axis=1)\n",
    "\n",
    "plt.figure(figsize=(10, 5))\n",
    "percentage = (rfm_data['segment'].value_counts(normalize=True)* 100).reset_index(name='%')\n",
    "g = sns.barplot(x=percentage['%'],y=percentage['index'], data=percentage,palette=\"GnBu_d\")\n",
    "sns.despine(bottom = True, left = True)\n",
    "for i, v in enumerate(percentage['%']):\n",
    "    g.text(v,i+0.20,\"  {:.2f}\".format(v)+\"%\", color='black', ha=\"left\")\n",
    "g.set_ylabel('Segmentation')\n",
    "g.set(xticks=[])\n",
    "plt.show()"
   ]
  },
  {
   "cell_type": "markdown",
   "metadata": {
    "collapsed": false
   },
   "source": [
    "# Conclusion\n"
   ]
  }
 ],
 "metadata": {
  "kernelspec": {
   "display_name": "Python 3.9.13 ('base')",
   "language": "python",
   "name": "python3"
  },
  "language_info": {
   "codemirror_mode": {
    "name": "ipython",
    "version": 3
   },
   "file_extension": ".py",
   "mimetype": "text/x-python",
   "name": "python",
   "nbconvert_exporter": "python",
   "pygments_lexer": "ipython3",
   "version": "3.9.13"
  },
  "vscode": {
   "interpreter": {
    "hash": "a44767039b492be4613e4b4e0caf3731922aa986c3a6b3bb6c5ab45aa5196773"
   }
  }
 },
 "nbformat": 4,
 "nbformat_minor": 0
}
