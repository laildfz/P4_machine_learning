{
 "cells": [
  {
   "cell_type": "markdown",
   "source": [
    "# Notebook de nettoyage des données de Olist\n",
    "\n",
    "Nous allons commencer notre analyse exploratoire des données pour mieux s'approprier les données de notre client (Olist).\n",
    "\n",
    "Dans un premier temps, nous allons importer les librairies nécessaires à l'exploration des données."
   ],
   "metadata": {
    "collapsed": false
   }
  },
  {
   "cell_type": "code",
   "execution_count": 91,
   "outputs": [],
   "source": [
    "import pandas as pd"
   ],
   "metadata": {
    "collapsed": false
   }
  },
  {
   "cell_type": "markdown",
   "source": [
    "Dans un second temps, nous allons charger nos données dans divers variables pour voir leurs contenues."
   ],
   "metadata": {
    "collapsed": false
   }
  },
  {
   "cell_type": "code",
   "execution_count": 92,
   "outputs": [],
   "source": [
    "customers = pd.read_csv(\"data/notclean/olist_customers_dataset.csv\")\n",
    "geolocation = pd.read_csv(\"data/notclean/olist_geolocation_dataset.csv\")\n",
    "order_items = pd.read_csv(\"data/notclean/olist_order_items_dataset.csv\")\n",
    "order_payments = pd.read_csv(\"data/notclean/olist_order_payments_dataset.csv\")\n",
    "order_reviews = pd.read_csv(\"data/notclean/olist_order_reviews_dataset.csv\")\n",
    "orders = pd.read_csv(\"data/notclean/olist_orders_dataset.csv\")\n",
    "products = pd.read_csv(\"data/notclean/olist_products_dataset.csv\")\n",
    "sellers = pd.read_csv(\"data/notclean/olist_sellers_dataset.csv\")\n",
    "product_category_name = pd.read_csv(\"data/notclean/product_category_name_translation.csv\")"
   ],
   "metadata": {
    "collapsed": false
   }
  },
  {
   "cell_type": "markdown",
   "source": [
    "Maintenant que nos données sont bien chargées en mémoire, nous allons afficher les champs des different dataset.\n",
    "\n",
    "Commençons par celui des clients,\n",
    "\n",
    "## Customers"
   ],
   "metadata": {
    "collapsed": false
   }
  },
  {
   "cell_type": "code",
   "execution_count": 93,
   "outputs": [
    {
     "data": {
      "text/plain": "                        customer_id                customer_unique_id  \\\n0  06b8999e2fba1a1fbc88172c00ba8bc7  861eff4711a542e4b93843c6dd7febb0   \n1  18955e83d337fd6b2def6b18a428ac77  290c77bc529b7ac935b93aa66c333dc3   \n2  4e7b3e00288586ebd08712fdd0374a03  060e732b5b29e8181a18229c7b0b2b5e   \n3  b2b6027bc5c5109e529d4dc6358b12c3  259dac757896d24d7702b9acbbff3f3c   \n4  4f2d8ab171c80ec8364f7c12e35b23ad  345ecd01c38d18a9036ed96c73b8d066   \n\n   customer_zip_code_prefix          customer_city customer_state  \n0                     14409                 franca             SP  \n1                      9790  sao bernardo do campo             SP  \n2                      1151              sao paulo             SP  \n3                      8775        mogi das cruzes             SP  \n4                     13056               campinas             SP  ",
      "text/html": "<div>\n<style scoped>\n    .dataframe tbody tr th:only-of-type {\n        vertical-align: middle;\n    }\n\n    .dataframe tbody tr th {\n        vertical-align: top;\n    }\n\n    .dataframe thead th {\n        text-align: right;\n    }\n</style>\n<table border=\"1\" class=\"dataframe\">\n  <thead>\n    <tr style=\"text-align: right;\">\n      <th></th>\n      <th>customer_id</th>\n      <th>customer_unique_id</th>\n      <th>customer_zip_code_prefix</th>\n      <th>customer_city</th>\n      <th>customer_state</th>\n    </tr>\n  </thead>\n  <tbody>\n    <tr>\n      <th>0</th>\n      <td>06b8999e2fba1a1fbc88172c00ba8bc7</td>\n      <td>861eff4711a542e4b93843c6dd7febb0</td>\n      <td>14409</td>\n      <td>franca</td>\n      <td>SP</td>\n    </tr>\n    <tr>\n      <th>1</th>\n      <td>18955e83d337fd6b2def6b18a428ac77</td>\n      <td>290c77bc529b7ac935b93aa66c333dc3</td>\n      <td>9790</td>\n      <td>sao bernardo do campo</td>\n      <td>SP</td>\n    </tr>\n    <tr>\n      <th>2</th>\n      <td>4e7b3e00288586ebd08712fdd0374a03</td>\n      <td>060e732b5b29e8181a18229c7b0b2b5e</td>\n      <td>1151</td>\n      <td>sao paulo</td>\n      <td>SP</td>\n    </tr>\n    <tr>\n      <th>3</th>\n      <td>b2b6027bc5c5109e529d4dc6358b12c3</td>\n      <td>259dac757896d24d7702b9acbbff3f3c</td>\n      <td>8775</td>\n      <td>mogi das cruzes</td>\n      <td>SP</td>\n    </tr>\n    <tr>\n      <th>4</th>\n      <td>4f2d8ab171c80ec8364f7c12e35b23ad</td>\n      <td>345ecd01c38d18a9036ed96c73b8d066</td>\n      <td>13056</td>\n      <td>campinas</td>\n      <td>SP</td>\n    </tr>\n  </tbody>\n</table>\n</div>"
     },
     "execution_count": 93,
     "metadata": {},
     "output_type": "execute_result"
    }
   ],
   "source": [
    "customers.head()"
   ],
   "metadata": {
    "collapsed": false
   }
  },
  {
   "cell_type": "markdown",
   "source": [
    "Nous remarquons dès lors, la présence de plusieurs champs qui définissent ce qu'est un client.\n",
    "\n",
    "À savoir :\n",
    "\n",
    "- customer_id qui reflète l'id d'un client\n",
    "- customer_unique_id qui reflète l'id unique d'un client\n",
    "- customer_zip_code_prefix qui reflète le code postal d'un client\n",
    "- customer_city qui reflète la ville du client en adéquation avec son code postale\n",
    "- customer_state qui reflète l'état ou région de la ville du client\n",
    "\n",
    "Désormais nous connaissons les champs qui définissent ce qu'est un client.\n",
    "\n",
    "Faisons le même exercice pour les datasets\n",
    "\n",
    "## Geolocation"
   ],
   "metadata": {
    "collapsed": false
   }
  },
  {
   "cell_type": "code",
   "execution_count": 94,
   "outputs": [
    {
     "data": {
      "text/plain": "   geolocation_zip_code_prefix  geolocation_lat  geolocation_lng  \\\n0                         1037       -23.545621       -46.639292   \n1                         1046       -23.546081       -46.644820   \n2                         1046       -23.546129       -46.642951   \n3                         1041       -23.544392       -46.639499   \n4                         1035       -23.541578       -46.641607   \n\n  geolocation_city geolocation_state  \n0        sao paulo                SP  \n1        sao paulo                SP  \n2        sao paulo                SP  \n3        sao paulo                SP  \n4        sao paulo                SP  ",
      "text/html": "<div>\n<style scoped>\n    .dataframe tbody tr th:only-of-type {\n        vertical-align: middle;\n    }\n\n    .dataframe tbody tr th {\n        vertical-align: top;\n    }\n\n    .dataframe thead th {\n        text-align: right;\n    }\n</style>\n<table border=\"1\" class=\"dataframe\">\n  <thead>\n    <tr style=\"text-align: right;\">\n      <th></th>\n      <th>geolocation_zip_code_prefix</th>\n      <th>geolocation_lat</th>\n      <th>geolocation_lng</th>\n      <th>geolocation_city</th>\n      <th>geolocation_state</th>\n    </tr>\n  </thead>\n  <tbody>\n    <tr>\n      <th>0</th>\n      <td>1037</td>\n      <td>-23.545621</td>\n      <td>-46.639292</td>\n      <td>sao paulo</td>\n      <td>SP</td>\n    </tr>\n    <tr>\n      <th>1</th>\n      <td>1046</td>\n      <td>-23.546081</td>\n      <td>-46.644820</td>\n      <td>sao paulo</td>\n      <td>SP</td>\n    </tr>\n    <tr>\n      <th>2</th>\n      <td>1046</td>\n      <td>-23.546129</td>\n      <td>-46.642951</td>\n      <td>sao paulo</td>\n      <td>SP</td>\n    </tr>\n    <tr>\n      <th>3</th>\n      <td>1041</td>\n      <td>-23.544392</td>\n      <td>-46.639499</td>\n      <td>sao paulo</td>\n      <td>SP</td>\n    </tr>\n    <tr>\n      <th>4</th>\n      <td>1035</td>\n      <td>-23.541578</td>\n      <td>-46.641607</td>\n      <td>sao paulo</td>\n      <td>SP</td>\n    </tr>\n  </tbody>\n</table>\n</div>"
     },
     "execution_count": 94,
     "metadata": {},
     "output_type": "execute_result"
    }
   ],
   "source": [
    "geolocation.head()"
   ],
   "metadata": {
    "collapsed": false
   }
  },
  {
   "cell_type": "markdown",
   "source": [
    "Les champs que nous retrouvons :\n",
    "\n",
    "- geolocation_zip_code_prefix : Qui reflète le code postal lié à l'entrée de géolocalisation.\n",
    "- geolocation_lat : Qui reflète la latitude de la géolocalisation\n",
    "- geolocation_lat : Qui reflète la longitude de la géolocalisation\n",
    "- geolocation_city : Qui reflète la ville liée à la géolocalisation\n",
    "- geolocation_state : Qui reflète l'état lié à la ville\n",
    "\n",
    "## Les factures (produit)"
   ],
   "metadata": {
    "collapsed": false
   }
  },
  {
   "cell_type": "code",
   "execution_count": 95,
   "outputs": [
    {
     "data": {
      "text/plain": "                           order_id  order_item_id  \\\n0  00010242fe8c5a6d1ba2dd792cb16214              1   \n1  00018f77f2f0320c557190d7a144bdd3              1   \n2  000229ec398224ef6ca0657da4fc703e              1   \n3  00024acbcdf0a6daa1e931b038114c75              1   \n4  00042b26cf59d7ce69dfabb4e55b4fd9              1   \n\n                         product_id                         seller_id  \\\n0  4244733e06e7ecb4970a6e2683c13e61  48436dade18ac8b2bce089ec2a041202   \n1  e5f2d52b802189ee658865ca93d83a8f  dd7ddc04e1b6c2c614352b383efe2d36   \n2  c777355d18b72b67abbeef9df44fd0fd  5b51032eddd242adc84c38acab88f23d   \n3  7634da152a4610f1595efa32f14722fc  9d7a1d34a5052409006425275ba1c2b4   \n4  ac6c3623068f30de03045865e4e10089  df560393f3a51e74553ab94004ba5c87   \n\n   shipping_limit_date   price  freight_value  \n0  2017-09-19 09:45:35   58.90          13.29  \n1  2017-05-03 11:05:13  239.90          19.93  \n2  2018-01-18 14:48:30  199.00          17.87  \n3  2018-08-15 10:10:18   12.99          12.79  \n4  2017-02-13 13:57:51  199.90          18.14  ",
      "text/html": "<div>\n<style scoped>\n    .dataframe tbody tr th:only-of-type {\n        vertical-align: middle;\n    }\n\n    .dataframe tbody tr th {\n        vertical-align: top;\n    }\n\n    .dataframe thead th {\n        text-align: right;\n    }\n</style>\n<table border=\"1\" class=\"dataframe\">\n  <thead>\n    <tr style=\"text-align: right;\">\n      <th></th>\n      <th>order_id</th>\n      <th>order_item_id</th>\n      <th>product_id</th>\n      <th>seller_id</th>\n      <th>shipping_limit_date</th>\n      <th>price</th>\n      <th>freight_value</th>\n    </tr>\n  </thead>\n  <tbody>\n    <tr>\n      <th>0</th>\n      <td>00010242fe8c5a6d1ba2dd792cb16214</td>\n      <td>1</td>\n      <td>4244733e06e7ecb4970a6e2683c13e61</td>\n      <td>48436dade18ac8b2bce089ec2a041202</td>\n      <td>2017-09-19 09:45:35</td>\n      <td>58.90</td>\n      <td>13.29</td>\n    </tr>\n    <tr>\n      <th>1</th>\n      <td>00018f77f2f0320c557190d7a144bdd3</td>\n      <td>1</td>\n      <td>e5f2d52b802189ee658865ca93d83a8f</td>\n      <td>dd7ddc04e1b6c2c614352b383efe2d36</td>\n      <td>2017-05-03 11:05:13</td>\n      <td>239.90</td>\n      <td>19.93</td>\n    </tr>\n    <tr>\n      <th>2</th>\n      <td>000229ec398224ef6ca0657da4fc703e</td>\n      <td>1</td>\n      <td>c777355d18b72b67abbeef9df44fd0fd</td>\n      <td>5b51032eddd242adc84c38acab88f23d</td>\n      <td>2018-01-18 14:48:30</td>\n      <td>199.00</td>\n      <td>17.87</td>\n    </tr>\n    <tr>\n      <th>3</th>\n      <td>00024acbcdf0a6daa1e931b038114c75</td>\n      <td>1</td>\n      <td>7634da152a4610f1595efa32f14722fc</td>\n      <td>9d7a1d34a5052409006425275ba1c2b4</td>\n      <td>2018-08-15 10:10:18</td>\n      <td>12.99</td>\n      <td>12.79</td>\n    </tr>\n    <tr>\n      <th>4</th>\n      <td>00042b26cf59d7ce69dfabb4e55b4fd9</td>\n      <td>1</td>\n      <td>ac6c3623068f30de03045865e4e10089</td>\n      <td>df560393f3a51e74553ab94004ba5c87</td>\n      <td>2017-02-13 13:57:51</td>\n      <td>199.90</td>\n      <td>18.14</td>\n    </tr>\n  </tbody>\n</table>\n</div>"
     },
     "execution_count": 95,
     "metadata": {},
     "output_type": "execute_result"
    }
   ],
   "source": [
    "order_items.head()"
   ],
   "metadata": {
    "collapsed": false
   }
  },
  {
   "cell_type": "markdown",
   "source": [
    "Nous remarquons ici divers champs :\n",
    "\n",
    "- order_id : Qui correspond à l'id de la facture\n",
    "- order_item_id : Qui correspond à l'id de la facture du produit\n",
    "- product_id : Qui correspond l'id du produit\n",
    "- seller_id : Qui correspond à l'id du vendeur\n",
    "- shipping_limit_date : Qui correspond à la date maximale avant expiration de la facture\n",
    "- price : Qui correspond au prix de la facture\n",
    "- freight_value : Qui correspond au frais d'expédition\n",
    "\n",
    "Nous pouvons dès lors émettre l'hypothèse que nous pourrons générer un dataset unique en regroupant les données des different dataset notamment grâce aux id communs.\n",
    "\n",
    "## Les notes de paiements"
   ],
   "metadata": {
    "collapsed": false
   }
  },
  {
   "cell_type": "code",
   "execution_count": 96,
   "outputs": [
    {
     "data": {
      "text/plain": "                           order_id  payment_sequential payment_type  \\\n0  b81ef226f3fe1789b1e8b2acac839d17                   1  credit_card   \n1  a9810da82917af2d9aefd1278f1dcfa0                   1  credit_card   \n2  25e8ea4e93396b6fa0d3dd708e76c1bd                   1  credit_card   \n3  ba78997921bbcdc1373bb41e913ab953                   1  credit_card   \n4  42fdf880ba16b47b59251dd489d4441a                   1  credit_card   \n\n   payment_installments  payment_value  \n0                     8          99.33  \n1                     1          24.39  \n2                     1          65.71  \n3                     8         107.78  \n4                     2         128.45  ",
      "text/html": "<div>\n<style scoped>\n    .dataframe tbody tr th:only-of-type {\n        vertical-align: middle;\n    }\n\n    .dataframe tbody tr th {\n        vertical-align: top;\n    }\n\n    .dataframe thead th {\n        text-align: right;\n    }\n</style>\n<table border=\"1\" class=\"dataframe\">\n  <thead>\n    <tr style=\"text-align: right;\">\n      <th></th>\n      <th>order_id</th>\n      <th>payment_sequential</th>\n      <th>payment_type</th>\n      <th>payment_installments</th>\n      <th>payment_value</th>\n    </tr>\n  </thead>\n  <tbody>\n    <tr>\n      <th>0</th>\n      <td>b81ef226f3fe1789b1e8b2acac839d17</td>\n      <td>1</td>\n      <td>credit_card</td>\n      <td>8</td>\n      <td>99.33</td>\n    </tr>\n    <tr>\n      <th>1</th>\n      <td>a9810da82917af2d9aefd1278f1dcfa0</td>\n      <td>1</td>\n      <td>credit_card</td>\n      <td>1</td>\n      <td>24.39</td>\n    </tr>\n    <tr>\n      <th>2</th>\n      <td>25e8ea4e93396b6fa0d3dd708e76c1bd</td>\n      <td>1</td>\n      <td>credit_card</td>\n      <td>1</td>\n      <td>65.71</td>\n    </tr>\n    <tr>\n      <th>3</th>\n      <td>ba78997921bbcdc1373bb41e913ab953</td>\n      <td>1</td>\n      <td>credit_card</td>\n      <td>8</td>\n      <td>107.78</td>\n    </tr>\n    <tr>\n      <th>4</th>\n      <td>42fdf880ba16b47b59251dd489d4441a</td>\n      <td>1</td>\n      <td>credit_card</td>\n      <td>2</td>\n      <td>128.45</td>\n    </tr>\n  </tbody>\n</table>\n</div>"
     },
     "execution_count": 96,
     "metadata": {},
     "output_type": "execute_result"
    }
   ],
   "source": [
    "order_payments.head()"
   ],
   "metadata": {
    "collapsed": false
   }
  },
  {
   "cell_type": "markdown",
   "source": [
    "Nous retrouvons ici la liste des paiements correspondant à une facture\n",
    "\n",
    "- order_id : Qui correspond à l'id de la facture\n",
    "- payment_sequential : Qui correspond à la séquence des paiements\n",
    "- payment_type : Qui correspond au moyen de paiement utilisé\n",
    "- payment_installments : Qui correspond au paiement en plusieurs fois (mois)\n",
    "- payment_value : Qui correspond au montant payé.\n",
    "\n",
    "## Les reviews de facture"
   ],
   "metadata": {
    "collapsed": false
   }
  },
  {
   "cell_type": "code",
   "execution_count": 97,
   "outputs": [
    {
     "data": {
      "text/plain": "                          review_id                          order_id  \\\n0  7bc2406110b926393aa56f80a40eba40  73fc7af87114b39712e6da79b0a377eb   \n1  80e641a11e56f04c1ad469d5645fdfde  a548910a1c6147796b98fdf73dbeba33   \n2  228ce5500dc1d8e020d8d1322874b6f0  f9e4b658b201a9f2ecdecbb34bed034b   \n3  e64fb393e7b32834bb789ff8bb30750e  658677c97b385a9be170737859d3511b   \n4  f7c4243c7fe1938f181bec41a392bdeb  8e6bfb81e283fa7e4f11123a3fb894f1   \n\n   review_score review_comment_title  \\\n0             4                  NaN   \n1             5                  NaN   \n2             5                  NaN   \n3             5                  NaN   \n4             5                  NaN   \n\n                              review_comment_message review_creation_date  \\\n0                                                NaN  2018-01-18 00:00:00   \n1                                                NaN  2018-03-10 00:00:00   \n2                                                NaN  2018-02-17 00:00:00   \n3              Recebi bem antes do prazo estipulado.  2017-04-21 00:00:00   \n4  Parabéns lojas lannister adorei comprar pela I...  2018-03-01 00:00:00   \n\n  review_answer_timestamp  \n0     2018-01-18 21:46:59  \n1     2018-03-11 03:05:13  \n2     2018-02-18 14:36:24  \n3     2017-04-21 22:02:06  \n4     2018-03-02 10:26:53  ",
      "text/html": "<div>\n<style scoped>\n    .dataframe tbody tr th:only-of-type {\n        vertical-align: middle;\n    }\n\n    .dataframe tbody tr th {\n        vertical-align: top;\n    }\n\n    .dataframe thead th {\n        text-align: right;\n    }\n</style>\n<table border=\"1\" class=\"dataframe\">\n  <thead>\n    <tr style=\"text-align: right;\">\n      <th></th>\n      <th>review_id</th>\n      <th>order_id</th>\n      <th>review_score</th>\n      <th>review_comment_title</th>\n      <th>review_comment_message</th>\n      <th>review_creation_date</th>\n      <th>review_answer_timestamp</th>\n    </tr>\n  </thead>\n  <tbody>\n    <tr>\n      <th>0</th>\n      <td>7bc2406110b926393aa56f80a40eba40</td>\n      <td>73fc7af87114b39712e6da79b0a377eb</td>\n      <td>4</td>\n      <td>NaN</td>\n      <td>NaN</td>\n      <td>2018-01-18 00:00:00</td>\n      <td>2018-01-18 21:46:59</td>\n    </tr>\n    <tr>\n      <th>1</th>\n      <td>80e641a11e56f04c1ad469d5645fdfde</td>\n      <td>a548910a1c6147796b98fdf73dbeba33</td>\n      <td>5</td>\n      <td>NaN</td>\n      <td>NaN</td>\n      <td>2018-03-10 00:00:00</td>\n      <td>2018-03-11 03:05:13</td>\n    </tr>\n    <tr>\n      <th>2</th>\n      <td>228ce5500dc1d8e020d8d1322874b6f0</td>\n      <td>f9e4b658b201a9f2ecdecbb34bed034b</td>\n      <td>5</td>\n      <td>NaN</td>\n      <td>NaN</td>\n      <td>2018-02-17 00:00:00</td>\n      <td>2018-02-18 14:36:24</td>\n    </tr>\n    <tr>\n      <th>3</th>\n      <td>e64fb393e7b32834bb789ff8bb30750e</td>\n      <td>658677c97b385a9be170737859d3511b</td>\n      <td>5</td>\n      <td>NaN</td>\n      <td>Recebi bem antes do prazo estipulado.</td>\n      <td>2017-04-21 00:00:00</td>\n      <td>2017-04-21 22:02:06</td>\n    </tr>\n    <tr>\n      <th>4</th>\n      <td>f7c4243c7fe1938f181bec41a392bdeb</td>\n      <td>8e6bfb81e283fa7e4f11123a3fb894f1</td>\n      <td>5</td>\n      <td>NaN</td>\n      <td>Parabéns lojas lannister adorei comprar pela I...</td>\n      <td>2018-03-01 00:00:00</td>\n      <td>2018-03-02 10:26:53</td>\n    </tr>\n  </tbody>\n</table>\n</div>"
     },
     "execution_count": 97,
     "metadata": {},
     "output_type": "execute_result"
    }
   ],
   "source": [
    "order_reviews.head()"
   ],
   "metadata": {
    "collapsed": false
   }
  },
  {
   "cell_type": "markdown",
   "source": [
    "Ici nous retrouvons :\n",
    "\n",
    "- review_id : Qui reflète l'id de l'avis client\n",
    "- order_id : Qui reflète l'id de la facture du client\n",
    "- review_score : Qui nous donne un score renseigné par le client sur cinq\n",
    "- review_comment_title : Qui nous donne le titre de l'avis client\n",
    "- review_comment_message : Qui nous donne le contenu de l'avis du client\n",
    "- review_creation_date : Qui nous donne la date de création de l'avis du client\n",
    "- review_answer_timestamp : Qui nous donne la date de réponse à l'avis du client\n",
    "\n",
    "## Les factures"
   ],
   "metadata": {
    "collapsed": false
   }
  },
  {
   "cell_type": "code",
   "execution_count": 98,
   "outputs": [
    {
     "data": {
      "text/plain": "                           order_id                       customer_id  \\\n0  e481f51cbdc54678b7cc49136f2d6af7  9ef432eb6251297304e76186b10a928d   \n1  53cdb2fc8bc7dce0b6741e2150273451  b0830fb4747a6c6d20dea0b8c802d7ef   \n2  47770eb9100c2d0c44946d9cf07ec65d  41ce2a54c0b03bf3443c3d931a367089   \n3  949d5b44dbf5de918fe9c16f97b45f8a  f88197465ea7920adcdbec7375364d82   \n4  ad21c59c0840e6cb83a9ceb5573f8159  8ab97904e6daea8866dbdbc4fb7aad2c   \n\n  order_status order_purchase_timestamp    order_approved_at  \\\n0    delivered      2017-10-02 10:56:33  2017-10-02 11:07:15   \n1    delivered      2018-07-24 20:41:37  2018-07-26 03:24:27   \n2    delivered      2018-08-08 08:38:49  2018-08-08 08:55:23   \n3    delivered      2017-11-18 19:28:06  2017-11-18 19:45:59   \n4    delivered      2018-02-13 21:18:39  2018-02-13 22:20:29   \n\n  order_delivered_carrier_date order_delivered_customer_date  \\\n0          2017-10-04 19:55:00           2017-10-10 21:25:13   \n1          2018-07-26 14:31:00           2018-08-07 15:27:45   \n2          2018-08-08 13:50:00           2018-08-17 18:06:29   \n3          2017-11-22 13:39:59           2017-12-02 00:28:42   \n4          2018-02-14 19:46:34           2018-02-16 18:17:02   \n\n  order_estimated_delivery_date  \n0           2017-10-18 00:00:00  \n1           2018-08-13 00:00:00  \n2           2018-09-04 00:00:00  \n3           2017-12-15 00:00:00  \n4           2018-02-26 00:00:00  ",
      "text/html": "<div>\n<style scoped>\n    .dataframe tbody tr th:only-of-type {\n        vertical-align: middle;\n    }\n\n    .dataframe tbody tr th {\n        vertical-align: top;\n    }\n\n    .dataframe thead th {\n        text-align: right;\n    }\n</style>\n<table border=\"1\" class=\"dataframe\">\n  <thead>\n    <tr style=\"text-align: right;\">\n      <th></th>\n      <th>order_id</th>\n      <th>customer_id</th>\n      <th>order_status</th>\n      <th>order_purchase_timestamp</th>\n      <th>order_approved_at</th>\n      <th>order_delivered_carrier_date</th>\n      <th>order_delivered_customer_date</th>\n      <th>order_estimated_delivery_date</th>\n    </tr>\n  </thead>\n  <tbody>\n    <tr>\n      <th>0</th>\n      <td>e481f51cbdc54678b7cc49136f2d6af7</td>\n      <td>9ef432eb6251297304e76186b10a928d</td>\n      <td>delivered</td>\n      <td>2017-10-02 10:56:33</td>\n      <td>2017-10-02 11:07:15</td>\n      <td>2017-10-04 19:55:00</td>\n      <td>2017-10-10 21:25:13</td>\n      <td>2017-10-18 00:00:00</td>\n    </tr>\n    <tr>\n      <th>1</th>\n      <td>53cdb2fc8bc7dce0b6741e2150273451</td>\n      <td>b0830fb4747a6c6d20dea0b8c802d7ef</td>\n      <td>delivered</td>\n      <td>2018-07-24 20:41:37</td>\n      <td>2018-07-26 03:24:27</td>\n      <td>2018-07-26 14:31:00</td>\n      <td>2018-08-07 15:27:45</td>\n      <td>2018-08-13 00:00:00</td>\n    </tr>\n    <tr>\n      <th>2</th>\n      <td>47770eb9100c2d0c44946d9cf07ec65d</td>\n      <td>41ce2a54c0b03bf3443c3d931a367089</td>\n      <td>delivered</td>\n      <td>2018-08-08 08:38:49</td>\n      <td>2018-08-08 08:55:23</td>\n      <td>2018-08-08 13:50:00</td>\n      <td>2018-08-17 18:06:29</td>\n      <td>2018-09-04 00:00:00</td>\n    </tr>\n    <tr>\n      <th>3</th>\n      <td>949d5b44dbf5de918fe9c16f97b45f8a</td>\n      <td>f88197465ea7920adcdbec7375364d82</td>\n      <td>delivered</td>\n      <td>2017-11-18 19:28:06</td>\n      <td>2017-11-18 19:45:59</td>\n      <td>2017-11-22 13:39:59</td>\n      <td>2017-12-02 00:28:42</td>\n      <td>2017-12-15 00:00:00</td>\n    </tr>\n    <tr>\n      <th>4</th>\n      <td>ad21c59c0840e6cb83a9ceb5573f8159</td>\n      <td>8ab97904e6daea8866dbdbc4fb7aad2c</td>\n      <td>delivered</td>\n      <td>2018-02-13 21:18:39</td>\n      <td>2018-02-13 22:20:29</td>\n      <td>2018-02-14 19:46:34</td>\n      <td>2018-02-16 18:17:02</td>\n      <td>2018-02-26 00:00:00</td>\n    </tr>\n  </tbody>\n</table>\n</div>"
     },
     "execution_count": 98,
     "metadata": {},
     "output_type": "execute_result"
    }
   ],
   "source": [
    "orders.head()"
   ],
   "metadata": {
    "collapsed": false
   }
  },
  {
   "cell_type": "markdown",
   "source": [
    "Nous retrouvons :\n",
    "\n",
    "- order_id qui reflète l'id de la facture\n",
    "- customer_id qui reflète l'id du client\n",
    "- order_status qui reflète le statut de la facture\n",
    "- order_purchase_timestamp qui reflète la date d'achat\n",
    "- order_approved_at qui reflète la date d'acceptation de la facture\n",
    "- order_delivered_carrier_date qui reflète de livraison indiquée par le transporteur\n",
    "- order_delivered_customer_date qui reflète la date de livraison au client\n",
    "- order_estimated_delivery_date qui reflète la date de livraison estimée"
   ],
   "metadata": {
    "collapsed": false
   }
  },
  {
   "cell_type": "code",
   "execution_count": 99,
   "outputs": [
    {
     "data": {
      "text/plain": "                         product_id  product_category_name  \\\n0  1e9e8ef04dbcff4541ed26657ea517e5             perfumaria   \n1  3aa071139cb16b67ca9e5dea641aaa2f                  artes   \n2  96bd76ec8810374ed1b65e291975717f          esporte_lazer   \n3  cef67bcfe19066a932b7673e239eb23d                  bebes   \n4  9dc1a7de274444849c219cff195d0b71  utilidades_domesticas   \n\n   product_name_lenght  product_description_lenght  product_photos_qty  \\\n0                 40.0                       287.0                 1.0   \n1                 44.0                       276.0                 1.0   \n2                 46.0                       250.0                 1.0   \n3                 27.0                       261.0                 1.0   \n4                 37.0                       402.0                 4.0   \n\n   product_weight_g  product_length_cm  product_height_cm  product_width_cm  \n0             225.0               16.0               10.0              14.0  \n1            1000.0               30.0               18.0              20.0  \n2             154.0               18.0                9.0              15.0  \n3             371.0               26.0                4.0              26.0  \n4             625.0               20.0               17.0              13.0  ",
      "text/html": "<div>\n<style scoped>\n    .dataframe tbody tr th:only-of-type {\n        vertical-align: middle;\n    }\n\n    .dataframe tbody tr th {\n        vertical-align: top;\n    }\n\n    .dataframe thead th {\n        text-align: right;\n    }\n</style>\n<table border=\"1\" class=\"dataframe\">\n  <thead>\n    <tr style=\"text-align: right;\">\n      <th></th>\n      <th>product_id</th>\n      <th>product_category_name</th>\n      <th>product_name_lenght</th>\n      <th>product_description_lenght</th>\n      <th>product_photos_qty</th>\n      <th>product_weight_g</th>\n      <th>product_length_cm</th>\n      <th>product_height_cm</th>\n      <th>product_width_cm</th>\n    </tr>\n  </thead>\n  <tbody>\n    <tr>\n      <th>0</th>\n      <td>1e9e8ef04dbcff4541ed26657ea517e5</td>\n      <td>perfumaria</td>\n      <td>40.0</td>\n      <td>287.0</td>\n      <td>1.0</td>\n      <td>225.0</td>\n      <td>16.0</td>\n      <td>10.0</td>\n      <td>14.0</td>\n    </tr>\n    <tr>\n      <th>1</th>\n      <td>3aa071139cb16b67ca9e5dea641aaa2f</td>\n      <td>artes</td>\n      <td>44.0</td>\n      <td>276.0</td>\n      <td>1.0</td>\n      <td>1000.0</td>\n      <td>30.0</td>\n      <td>18.0</td>\n      <td>20.0</td>\n    </tr>\n    <tr>\n      <th>2</th>\n      <td>96bd76ec8810374ed1b65e291975717f</td>\n      <td>esporte_lazer</td>\n      <td>46.0</td>\n      <td>250.0</td>\n      <td>1.0</td>\n      <td>154.0</td>\n      <td>18.0</td>\n      <td>9.0</td>\n      <td>15.0</td>\n    </tr>\n    <tr>\n      <th>3</th>\n      <td>cef67bcfe19066a932b7673e239eb23d</td>\n      <td>bebes</td>\n      <td>27.0</td>\n      <td>261.0</td>\n      <td>1.0</td>\n      <td>371.0</td>\n      <td>26.0</td>\n      <td>4.0</td>\n      <td>26.0</td>\n    </tr>\n    <tr>\n      <th>4</th>\n      <td>9dc1a7de274444849c219cff195d0b71</td>\n      <td>utilidades_domesticas</td>\n      <td>37.0</td>\n      <td>402.0</td>\n      <td>4.0</td>\n      <td>625.0</td>\n      <td>20.0</td>\n      <td>17.0</td>\n      <td>13.0</td>\n    </tr>\n  </tbody>\n</table>\n</div>"
     },
     "execution_count": 99,
     "metadata": {},
     "output_type": "execute_result"
    }
   ],
   "source": [
    "products.head()"
   ],
   "metadata": {
    "collapsed": false
   }
  },
  {
   "cell_type": "markdown",
   "source": [
    "Nous retrouvons ici :\n",
    "\n",
    "- product_id qui reflète l'id du produit\n",
    "- product_category_name qui donne la catégorie du produit\n",
    "- product_name_lenght qui donne le nombre de caractères du nom du produit\n",
    "- product_description_lenght qui donne le nombre de caractères de la description du produit\n",
    "- product_photos_qty qui donne la quantité de photo pour le produit\n",
    "- product_weight_g qui donne le poids en gramme du produit\n",
    "- product_lenght_cm qui donne la longueur en centimetre du produit\n",
    "- product_height_cm qui donne la hauteur en centimetre du produit\n",
    "- product_width_cm qui donne la largeur en centimetre du produit"
   ],
   "metadata": {
    "collapsed": false
   }
  },
  {
   "cell_type": "code",
   "execution_count": 100,
   "outputs": [
    {
     "data": {
      "text/plain": "                          seller_id  seller_zip_code_prefix  \\\n0  3442f8959a84dea7ee197c632cb2df15                   13023   \n1  d1b65fc7debc3361ea86b5f14c68d2e2                   13844   \n2  ce3ad9de960102d0677a81f5d0bb7b2d                   20031   \n3  c0f3eea2e14555b6faeea3dd58c1b1c3                    4195   \n4  51a04a8a6bdcb23deccc82b0b80742cf                   12914   \n\n         seller_city seller_state  \n0           campinas           SP  \n1         mogi guacu           SP  \n2     rio de janeiro           RJ  \n3          sao paulo           SP  \n4  braganca paulista           SP  ",
      "text/html": "<div>\n<style scoped>\n    .dataframe tbody tr th:only-of-type {\n        vertical-align: middle;\n    }\n\n    .dataframe tbody tr th {\n        vertical-align: top;\n    }\n\n    .dataframe thead th {\n        text-align: right;\n    }\n</style>\n<table border=\"1\" class=\"dataframe\">\n  <thead>\n    <tr style=\"text-align: right;\">\n      <th></th>\n      <th>seller_id</th>\n      <th>seller_zip_code_prefix</th>\n      <th>seller_city</th>\n      <th>seller_state</th>\n    </tr>\n  </thead>\n  <tbody>\n    <tr>\n      <th>0</th>\n      <td>3442f8959a84dea7ee197c632cb2df15</td>\n      <td>13023</td>\n      <td>campinas</td>\n      <td>SP</td>\n    </tr>\n    <tr>\n      <th>1</th>\n      <td>d1b65fc7debc3361ea86b5f14c68d2e2</td>\n      <td>13844</td>\n      <td>mogi guacu</td>\n      <td>SP</td>\n    </tr>\n    <tr>\n      <th>2</th>\n      <td>ce3ad9de960102d0677a81f5d0bb7b2d</td>\n      <td>20031</td>\n      <td>rio de janeiro</td>\n      <td>RJ</td>\n    </tr>\n    <tr>\n      <th>3</th>\n      <td>c0f3eea2e14555b6faeea3dd58c1b1c3</td>\n      <td>4195</td>\n      <td>sao paulo</td>\n      <td>SP</td>\n    </tr>\n    <tr>\n      <th>4</th>\n      <td>51a04a8a6bdcb23deccc82b0b80742cf</td>\n      <td>12914</td>\n      <td>braganca paulista</td>\n      <td>SP</td>\n    </tr>\n  </tbody>\n</table>\n</div>"
     },
     "execution_count": 100,
     "metadata": {},
     "output_type": "execute_result"
    }
   ],
   "source": [
    "sellers.head()"
   ],
   "metadata": {
    "collapsed": false
   }
  },
  {
   "cell_type": "markdown",
   "source": [
    "Pour les vendeurs :\n",
    "\n",
    "- seller_id qui reflète l'id du vendeur\n",
    "- seller_zip_code_prefix qui donne le code postal du vendeur\n",
    "- seller_city qui donne la ville du vendeur\n",
    "- seller_state qui donne l'état ou la région du vendeur"
   ],
   "metadata": {
    "collapsed": false
   }
  },
  {
   "cell_type": "code",
   "execution_count": 101,
   "outputs": [
    {
     "data": {
      "text/plain": "    product_category_name product_category_name_english\n0            beleza_saude                 health_beauty\n1  informatica_acessorios         computers_accessories\n2              automotivo                          auto\n3         cama_mesa_banho                bed_bath_table\n4        moveis_decoracao               furniture_decor",
      "text/html": "<div>\n<style scoped>\n    .dataframe tbody tr th:only-of-type {\n        vertical-align: middle;\n    }\n\n    .dataframe tbody tr th {\n        vertical-align: top;\n    }\n\n    .dataframe thead th {\n        text-align: right;\n    }\n</style>\n<table border=\"1\" class=\"dataframe\">\n  <thead>\n    <tr style=\"text-align: right;\">\n      <th></th>\n      <th>product_category_name</th>\n      <th>product_category_name_english</th>\n    </tr>\n  </thead>\n  <tbody>\n    <tr>\n      <th>0</th>\n      <td>beleza_saude</td>\n      <td>health_beauty</td>\n    </tr>\n    <tr>\n      <th>1</th>\n      <td>informatica_acessorios</td>\n      <td>computers_accessories</td>\n    </tr>\n    <tr>\n      <th>2</th>\n      <td>automotivo</td>\n      <td>auto</td>\n    </tr>\n    <tr>\n      <th>3</th>\n      <td>cama_mesa_banho</td>\n      <td>bed_bath_table</td>\n    </tr>\n    <tr>\n      <th>4</th>\n      <td>moveis_decoracao</td>\n      <td>furniture_decor</td>\n    </tr>\n  </tbody>\n</table>\n</div>"
     },
     "execution_count": 101,
     "metadata": {},
     "output_type": "execute_result"
    }
   ],
   "source": [
    "product_category_name.head()"
   ],
   "metadata": {
    "collapsed": false
   }
  },
  {
   "cell_type": "markdown",
   "source": [
    "Pour les catégories de produit :\n",
    "\n",
    "- product_category_name qui reflète le nom de la catégorie du produit en brésilien\n",
    "- product_category_name_english qui donne la catégorie du produit en anglais\n",
    "\n",
    "## Conclusion et premières hypothèses\n",
    "\n"
   ],
   "metadata": {
    "collapsed": false
   }
  },
  {
   "cell_type": "markdown",
   "source": [],
   "metadata": {
    "collapsed": false
   }
  }
 ],
 "metadata": {
  "kernelspec": {
   "display_name": "Python 3",
   "language": "python",
   "name": "python3"
  },
  "language_info": {
   "codemirror_mode": {
    "name": "ipython",
    "version": 2
   },
   "file_extension": ".py",
   "mimetype": "text/x-python",
   "name": "python",
   "nbconvert_exporter": "python",
   "pygments_lexer": "ipython2",
   "version": "2.7.6"
  }
 },
 "nbformat": 4,
 "nbformat_minor": 0
}
